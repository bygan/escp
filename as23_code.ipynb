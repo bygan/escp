{
 "cells": [
  {
   "cell_type": "code",
   "execution_count": 2,
   "metadata": {},
   "outputs": [],
   "source": [
    "import pandas as pd\n",
    "import numpy as np\n",
    "#import pickle\n",
    "from sklearn.model_selection import train_test_split"
   ]
  },
  {
   "cell_type": "code",
   "execution_count": 3,
   "metadata": {},
   "outputs": [],
   "source": [
    "path_2_train_file = '/Users/ganby/文件/ESCP/ML and Python/Assignment 2 and 3/train1.csv'\n",
    "df = pd.read_csv(path_2_train_file)"
   ]
  },
  {
   "cell_type": "code",
   "execution_count": 4,
   "metadata": {},
   "outputs": [
    {
     "data": {
      "text/plain": [
       "Index(['label', 'id', 'visitTime', 'purchaseTime', 'hour', 'C1', 'C2', 'C3',\n",
       "       'C4', 'C5', 'C6', 'C7', 'C8', 'N1', 'C9', 'N2', 'N3', 'N4', 'N5', 'N6',\n",
       "       'N7', 'N8', 'N9', 'N10', 'C10', 'C11', 'C12'],\n",
       "      dtype='object')"
      ]
     },
     "execution_count": 4,
     "metadata": {},
     "output_type": "execute_result"
    }
   ],
   "source": [
    "df.columns"
   ]
  },
  {
   "cell_type": "code",
   "execution_count": 5,
   "metadata": {},
   "outputs": [
    {
     "data": {
      "text/plain": [
       "2569487005    8430\n",
       "2108523568       7\n",
       "2084406919       6\n",
       "3438432991       5\n",
       "256353298        5\n",
       "              ... \n",
       "1427705163       1\n",
       "4180196685       1\n",
       "596547023        1\n",
       "3559230936       1\n",
       "77004800         1\n",
       "Name: C1, Length: 22595, dtype: int64"
      ]
     },
     "execution_count": 5,
     "metadata": {},
     "output_type": "execute_result"
    }
   ],
   "source": [
    "df['C1'].value_counts()"
   ]
  },
  {
   "cell_type": "code",
   "execution_count": 6,
   "metadata": {},
   "outputs": [
    {
     "data": {
      "text/plain": [
       "1928325921    1232\n",
       "3475347077    1212\n",
       "2780744710    1179\n",
       "1711803242     936\n",
       "1822656032     536\n",
       "              ... \n",
       "3540895230       1\n",
       "2756181513       1\n",
       "3550862535       1\n",
       "1199484467       1\n",
       "1533319149       1\n",
       "Name: C3, Length: 2863, dtype: int64"
      ]
     },
     "execution_count": 6,
     "metadata": {},
     "output_type": "execute_result"
    }
   ],
   "source": [
    "df['C3'].value_counts()"
   ]
  },
  {
   "cell_type": "code",
   "execution_count": 7,
   "metadata": {},
   "outputs": [
    {
     "data": {
      "text/plain": [
       "3469607743    1425\n",
       "3458698981      82\n",
       "3183725626      73\n",
       "1133005353      71\n",
       "3662869197      68\n",
       "              ... \n",
       "843115400        1\n",
       "762569609        1\n",
       "4142922634       1\n",
       "830608273        1\n",
       "487200771        1\n",
       "Name: C10, Length: 28653, dtype: int64"
      ]
     },
     "execution_count": 7,
     "metadata": {},
     "output_type": "execute_result"
    }
   ],
   "source": [
    "df['C10'].value_counts()"
   ]
  },
  {
   "cell_type": "code",
   "execution_count": 8,
   "metadata": {},
   "outputs": [
    {
     "data": {
      "text/plain": [
       "array([-1, -1, -1, ..., -1, -1, -1])"
      ]
     },
     "execution_count": 8,
     "metadata": {},
     "output_type": "execute_result"
    }
   ],
   "source": [
    "label = df['label'].values\n",
    "label"
   ]
  },
  {
   "cell_type": "code",
   "execution_count": 9,
   "metadata": {},
   "outputs": [
    {
     "data": {
      "text/plain": [
       "array([[         0, 1830830742,  652481754, ...,          0, 3617851689,\n",
       "        4220791646],\n",
       "       [         0,  403381353,  652481754, ...,          0, 3831440054,\n",
       "        1213938795],\n",
       "       [         0,  403381353,  652481754, ...,          0, 2379633508,\n",
       "        1284343215],\n",
       "       ...,\n",
       "       [        23, 1235983246,  652481754, ...,          0,  621902171,\n",
       "        3706004275],\n",
       "       [        23,  403381353,  652481754, ...,          0, 3617851689,\n",
       "        4220791646],\n",
       "       [        23,  403381353,  652481754, ...,          0, 3617851689,\n",
       "        4220791646]])"
      ]
     },
     "execution_count": 9,
     "metadata": {},
     "output_type": "execute_result"
    }
   ],
   "source": [
    "data = df.drop(columns=['label','id','visitTime','purchaseTime','C1','C3','C10']).values\n",
    "data"
   ]
  },
  {
   "cell_type": "code",
   "execution_count": 10,
   "metadata": {},
   "outputs": [
    {
     "data": {
      "text/html": [
       "<div>\n",
       "<style scoped>\n",
       "    .dataframe tbody tr th:only-of-type {\n",
       "        vertical-align: middle;\n",
       "    }\n",
       "\n",
       "    .dataframe tbody tr th {\n",
       "        vertical-align: top;\n",
       "    }\n",
       "\n",
       "    .dataframe thead th {\n",
       "        text-align: right;\n",
       "    }\n",
       "</style>\n",
       "<table border=\"1\" class=\"dataframe\">\n",
       "  <thead>\n",
       "    <tr style=\"text-align: right;\">\n",
       "      <th></th>\n",
       "      <th>hour</th>\n",
       "      <th>C2</th>\n",
       "      <th>C4</th>\n",
       "      <th>C5</th>\n",
       "      <th>C6</th>\n",
       "      <th>C7</th>\n",
       "      <th>C8</th>\n",
       "      <th>N1</th>\n",
       "      <th>C9</th>\n",
       "      <th>N2</th>\n",
       "      <th>N3</th>\n",
       "      <th>N4</th>\n",
       "      <th>N5</th>\n",
       "      <th>N6</th>\n",
       "      <th>N7</th>\n",
       "      <th>N8</th>\n",
       "      <th>N9</th>\n",
       "      <th>N10</th>\n",
       "      <th>C11</th>\n",
       "      <th>C12</th>\n",
       "    </tr>\n",
       "  </thead>\n",
       "  <tbody>\n",
       "    <tr>\n",
       "      <td>0</td>\n",
       "      <td>0</td>\n",
       "      <td>1830830742</td>\n",
       "      <td>652481754</td>\n",
       "      <td>2967512603</td>\n",
       "      <td>3624739744</td>\n",
       "      <td>2303407174</td>\n",
       "      <td>2206061889</td>\n",
       "      <td>0</td>\n",
       "      <td>4287642944</td>\n",
       "      <td>0</td>\n",
       "      <td>0</td>\n",
       "      <td>0</td>\n",
       "      <td>0</td>\n",
       "      <td>0</td>\n",
       "      <td>0</td>\n",
       "      <td>0</td>\n",
       "      <td>0</td>\n",
       "      <td>0</td>\n",
       "      <td>3617851689</td>\n",
       "      <td>4220791646</td>\n",
       "    </tr>\n",
       "    <tr>\n",
       "      <td>1</td>\n",
       "      <td>0</td>\n",
       "      <td>403381353</td>\n",
       "      <td>652481754</td>\n",
       "      <td>2967512603</td>\n",
       "      <td>179712055</td>\n",
       "      <td>2303407174</td>\n",
       "      <td>157533148</td>\n",
       "      <td>1</td>\n",
       "      <td>3272771221</td>\n",
       "      <td>0</td>\n",
       "      <td>1</td>\n",
       "      <td>0</td>\n",
       "      <td>0</td>\n",
       "      <td>0</td>\n",
       "      <td>0</td>\n",
       "      <td>1</td>\n",
       "      <td>0</td>\n",
       "      <td>0</td>\n",
       "      <td>3831440054</td>\n",
       "      <td>1213938795</td>\n",
       "    </tr>\n",
       "    <tr>\n",
       "      <td>2</td>\n",
       "      <td>0</td>\n",
       "      <td>403381353</td>\n",
       "      <td>652481754</td>\n",
       "      <td>2967512603</td>\n",
       "      <td>1607619193</td>\n",
       "      <td>2303407174</td>\n",
       "      <td>3588031319</td>\n",
       "      <td>0</td>\n",
       "      <td>3329757940</td>\n",
       "      <td>0</td>\n",
       "      <td>0</td>\n",
       "      <td>0</td>\n",
       "      <td>0</td>\n",
       "      <td>0</td>\n",
       "      <td>0</td>\n",
       "      <td>0</td>\n",
       "      <td>0</td>\n",
       "      <td>0</td>\n",
       "      <td>2379633508</td>\n",
       "      <td>1284343215</td>\n",
       "    </tr>\n",
       "    <tr>\n",
       "      <td>3</td>\n",
       "      <td>0</td>\n",
       "      <td>403381353</td>\n",
       "      <td>652481754</td>\n",
       "      <td>2967512603</td>\n",
       "      <td>10212495</td>\n",
       "      <td>2303407174</td>\n",
       "      <td>3588031319</td>\n",
       "      <td>0</td>\n",
       "      <td>3427046189</td>\n",
       "      <td>0</td>\n",
       "      <td>0</td>\n",
       "      <td>0</td>\n",
       "      <td>0</td>\n",
       "      <td>0</td>\n",
       "      <td>0</td>\n",
       "      <td>0</td>\n",
       "      <td>0</td>\n",
       "      <td>0</td>\n",
       "      <td>3617851689</td>\n",
       "      <td>4220791646</td>\n",
       "    </tr>\n",
       "    <tr>\n",
       "      <td>4</td>\n",
       "      <td>0</td>\n",
       "      <td>403381353</td>\n",
       "      <td>652481754</td>\n",
       "      <td>2967512603</td>\n",
       "      <td>580883881</td>\n",
       "      <td>2303407174</td>\n",
       "      <td>157533148</td>\n",
       "      <td>0</td>\n",
       "      <td>2088887026</td>\n",
       "      <td>0</td>\n",
       "      <td>0</td>\n",
       "      <td>0</td>\n",
       "      <td>0</td>\n",
       "      <td>0</td>\n",
       "      <td>0</td>\n",
       "      <td>0</td>\n",
       "      <td>0</td>\n",
       "      <td>0</td>\n",
       "      <td>3617851689</td>\n",
       "      <td>4220791646</td>\n",
       "    </tr>\n",
       "    <tr>\n",
       "      <td>...</td>\n",
       "      <td>...</td>\n",
       "      <td>...</td>\n",
       "      <td>...</td>\n",
       "      <td>...</td>\n",
       "      <td>...</td>\n",
       "      <td>...</td>\n",
       "      <td>...</td>\n",
       "      <td>...</td>\n",
       "      <td>...</td>\n",
       "      <td>...</td>\n",
       "      <td>...</td>\n",
       "      <td>...</td>\n",
       "      <td>...</td>\n",
       "      <td>...</td>\n",
       "      <td>...</td>\n",
       "      <td>...</td>\n",
       "      <td>...</td>\n",
       "      <td>...</td>\n",
       "      <td>...</td>\n",
       "      <td>...</td>\n",
       "    </tr>\n",
       "    <tr>\n",
       "      <td>31423</td>\n",
       "      <td>23</td>\n",
       "      <td>2018710401</td>\n",
       "      <td>2308170622</td>\n",
       "      <td>2967512603</td>\n",
       "      <td>3624739744</td>\n",
       "      <td>2303407174</td>\n",
       "      <td>157533148</td>\n",
       "      <td>0</td>\n",
       "      <td>4287642944</td>\n",
       "      <td>0</td>\n",
       "      <td>0</td>\n",
       "      <td>0</td>\n",
       "      <td>0</td>\n",
       "      <td>0</td>\n",
       "      <td>0</td>\n",
       "      <td>0</td>\n",
       "      <td>0</td>\n",
       "      <td>0</td>\n",
       "      <td>3617851689</td>\n",
       "      <td>4220791646</td>\n",
       "    </tr>\n",
       "    <tr>\n",
       "      <td>31424</td>\n",
       "      <td>23</td>\n",
       "      <td>403381353</td>\n",
       "      <td>652481754</td>\n",
       "      <td>2967512603</td>\n",
       "      <td>3624739744</td>\n",
       "      <td>2303407174</td>\n",
       "      <td>157533148</td>\n",
       "      <td>0</td>\n",
       "      <td>4287642944</td>\n",
       "      <td>0</td>\n",
       "      <td>0</td>\n",
       "      <td>0</td>\n",
       "      <td>0</td>\n",
       "      <td>0</td>\n",
       "      <td>0</td>\n",
       "      <td>0</td>\n",
       "      <td>0</td>\n",
       "      <td>0</td>\n",
       "      <td>3617851689</td>\n",
       "      <td>4220791646</td>\n",
       "    </tr>\n",
       "    <tr>\n",
       "      <td>31425</td>\n",
       "      <td>23</td>\n",
       "      <td>1235983246</td>\n",
       "      <td>652481754</td>\n",
       "      <td>2116767313</td>\n",
       "      <td>2304197778</td>\n",
       "      <td>2303407174</td>\n",
       "      <td>2374954832</td>\n",
       "      <td>0</td>\n",
       "      <td>3179660634</td>\n",
       "      <td>0</td>\n",
       "      <td>0</td>\n",
       "      <td>0</td>\n",
       "      <td>0</td>\n",
       "      <td>0</td>\n",
       "      <td>0</td>\n",
       "      <td>0</td>\n",
       "      <td>0</td>\n",
       "      <td>0</td>\n",
       "      <td>621902171</td>\n",
       "      <td>3706004275</td>\n",
       "    </tr>\n",
       "    <tr>\n",
       "      <td>31426</td>\n",
       "      <td>23</td>\n",
       "      <td>403381353</td>\n",
       "      <td>652481754</td>\n",
       "      <td>2967512603</td>\n",
       "      <td>3624739744</td>\n",
       "      <td>2303407174</td>\n",
       "      <td>434828410</td>\n",
       "      <td>0</td>\n",
       "      <td>4287642944</td>\n",
       "      <td>0</td>\n",
       "      <td>0</td>\n",
       "      <td>0</td>\n",
       "      <td>0</td>\n",
       "      <td>0</td>\n",
       "      <td>0</td>\n",
       "      <td>0</td>\n",
       "      <td>0</td>\n",
       "      <td>0</td>\n",
       "      <td>3617851689</td>\n",
       "      <td>4220791646</td>\n",
       "    </tr>\n",
       "    <tr>\n",
       "      <td>31427</td>\n",
       "      <td>23</td>\n",
       "      <td>403381353</td>\n",
       "      <td>652481754</td>\n",
       "      <td>2967512603</td>\n",
       "      <td>3624739744</td>\n",
       "      <td>2303407174</td>\n",
       "      <td>157533148</td>\n",
       "      <td>0</td>\n",
       "      <td>4287642944</td>\n",
       "      <td>0</td>\n",
       "      <td>0</td>\n",
       "      <td>0</td>\n",
       "      <td>0</td>\n",
       "      <td>0</td>\n",
       "      <td>0</td>\n",
       "      <td>0</td>\n",
       "      <td>0</td>\n",
       "      <td>0</td>\n",
       "      <td>3617851689</td>\n",
       "      <td>4220791646</td>\n",
       "    </tr>\n",
       "  </tbody>\n",
       "</table>\n",
       "<p>31428 rows × 20 columns</p>\n",
       "</div>"
      ],
      "text/plain": [
       "       hour          C2          C4          C5          C6          C7  \\\n",
       "0         0  1830830742   652481754  2967512603  3624739744  2303407174   \n",
       "1         0   403381353   652481754  2967512603   179712055  2303407174   \n",
       "2         0   403381353   652481754  2967512603  1607619193  2303407174   \n",
       "3         0   403381353   652481754  2967512603    10212495  2303407174   \n",
       "4         0   403381353   652481754  2967512603   580883881  2303407174   \n",
       "...     ...         ...         ...         ...         ...         ...   \n",
       "31423    23  2018710401  2308170622  2967512603  3624739744  2303407174   \n",
       "31424    23   403381353   652481754  2967512603  3624739744  2303407174   \n",
       "31425    23  1235983246   652481754  2116767313  2304197778  2303407174   \n",
       "31426    23   403381353   652481754  2967512603  3624739744  2303407174   \n",
       "31427    23   403381353   652481754  2967512603  3624739744  2303407174   \n",
       "\n",
       "               C8  N1          C9  N2  N3  N4  N5  N6  N7  N8  N9  N10  \\\n",
       "0      2206061889   0  4287642944   0   0   0   0   0   0   0   0    0   \n",
       "1       157533148   1  3272771221   0   1   0   0   0   0   1   0    0   \n",
       "2      3588031319   0  3329757940   0   0   0   0   0   0   0   0    0   \n",
       "3      3588031319   0  3427046189   0   0   0   0   0   0   0   0    0   \n",
       "4       157533148   0  2088887026   0   0   0   0   0   0   0   0    0   \n",
       "...           ...  ..         ...  ..  ..  ..  ..  ..  ..  ..  ..  ...   \n",
       "31423   157533148   0  4287642944   0   0   0   0   0   0   0   0    0   \n",
       "31424   157533148   0  4287642944   0   0   0   0   0   0   0   0    0   \n",
       "31425  2374954832   0  3179660634   0   0   0   0   0   0   0   0    0   \n",
       "31426   434828410   0  4287642944   0   0   0   0   0   0   0   0    0   \n",
       "31427   157533148   0  4287642944   0   0   0   0   0   0   0   0    0   \n",
       "\n",
       "              C11         C12  \n",
       "0      3617851689  4220791646  \n",
       "1      3831440054  1213938795  \n",
       "2      2379633508  1284343215  \n",
       "3      3617851689  4220791646  \n",
       "4      3617851689  4220791646  \n",
       "...           ...         ...  \n",
       "31423  3617851689  4220791646  \n",
       "31424  3617851689  4220791646  \n",
       "31425   621902171  3706004275  \n",
       "31426  3617851689  4220791646  \n",
       "31427  3617851689  4220791646  \n",
       "\n",
       "[31428 rows x 20 columns]"
      ]
     },
     "execution_count": 10,
     "metadata": {},
     "output_type": "execute_result"
    }
   ],
   "source": [
    "#测试drop掉这几列之后的df。\n",
    "df000=df.drop(columns=['label','id','visitTime','purchaseTime','C1','C3','C10'])\n",
    "df000"
   ]
  },
  {
   "cell_type": "code",
   "execution_count": 11,
   "metadata": {},
   "outputs": [
    {
     "data": {
      "text/plain": [
       "array([-1, -1, -1, -1, -1])"
      ]
     },
     "execution_count": 11,
     "metadata": {},
     "output_type": "execute_result"
    }
   ],
   "source": [
    "X = data.copy()\n",
    "y = np.array(label.copy())#把衡量购买的index复制一份。\n",
    "y[:5]"
   ]
  },
  {
   "cell_type": "code",
   "execution_count": 12,
   "metadata": {},
   "outputs": [
    {
     "name": "stdout",
     "output_type": "stream",
     "text": [
      "[None None]\n",
      "[    0     1     2 ... 31425 31426 31427]\n",
      "[  259  1931  2470  2484  3435  3876  4124  5319  5762  5914  7070  8438\n",
      "  8977  9689 11778 11782 12226 12232 13128 13892 16064 16305 16323 16422\n",
      " 16717 17766 18023 18093 18397 18667 19157 19660 19813 19952 20158 20290\n",
      " 20529 20574 20992 21213 22947 22980 23104 23691 23841 24118 25506 26280\n",
      " 26440 27412 28682 29258 29362 29504 29715 30219 30705]\n"
     ]
    }
   ],
   "source": [
    "y0 = (y > 0)*1\n",
    "y0\n",
    "#for i in y0:\n",
    "#    if i>0:\n",
    "#        print(i)\n",
    "set(y0)\n",
    "nb_class0 = len(set(y0))\n",
    "#xxx=[None]*nb_class0\n",
    "#xxx\n",
    "#print(nb_class0)\n",
    "#print(nb_class0) #看有多少列是发生购买的。\n",
    "id_Train0 = np.array([None]*nb_class0)\n",
    "#print(id_Train0)\n",
    "id_Test0 = np.array([None]*nb_class0)\n",
    "print(id_Test0)\n",
    "for i in range(nb_class0):\n",
    "    id_i0 = np.where(y0==i)[0]\n",
    "    print(id_i0)\n",
    "    id_i_train0, id_i_test0 = train_test_split(id_i0, test_size=0.2)\n",
    "    id_Train0[i] = id_i_train0\n",
    "    id_Test0[i] = id_i_test0"
   ]
  },
  {
   "cell_type": "code",
   "execution_count": 13,
   "metadata": {},
   "outputs": [
    {
     "name": "stdout",
     "output_type": "stream",
     "text": [
      "4\n",
      "[5]\n",
      "[0 4]\n",
      "[1]\n",
      "[2]\n"
     ]
    }
   ],
   "source": [
    "#ttt = np.array([1,1,1,1,0,0,0,1,1,1,0,1,0,1])\n",
    "y00 = np.array([1,2,3,0])\n",
    "ttt = len(set(y00))\n",
    "print(ttt)\n",
    "kkk = np.array([1,2,3,4,1,0])\n",
    "for i in range(ttt): #从array中最小值，即0开始记录位置。\n",
    "    tti = np.where(kkk == i)[0] #把kkk中和ttt中相同的元素的位置存储在tti中。换句话说，把kkk中0或者1的位置存储下来。\n",
    "    print(tti)"
   ]
  },
  {
   "cell_type": "markdown",
   "metadata": {},
   "source": [
    "# In the following, we try to build a baseline model (which is not the optimal solution)"
   ]
  },
  {
   "cell_type": "markdown",
   "metadata": {},
   "source": [
    "# Split data into training and testing"
   ]
  },
  {
   "cell_type": "code",
   "execution_count": 14,
   "metadata": {},
   "outputs": [
    {
     "name": "stdout",
     "output_type": "stream",
     "text": [
      "2\n"
     ]
    }
   ],
   "source": [
    "y = (y > 0)*1\n",
    "nb_class = len(set(y))\n",
    "print(nb_class) #看有多少列是发生购买的。\n",
    "id_Train = np.array([None]*nb_class)#初始化id_Train和id_Test.\n",
    "id_Test = np.array([None]*nb_class)\n",
    "for i in range(nb_class):\n",
    "    id_i = np.where(y==i)[0]\n",
    "    id_i_train, id_i_test = train_test_split(id_i, test_size=0.3, random_state=123,shuffle=True)\n",
    "    id_Train[i] = id_i_train\n",
    "    id_Test[i] = id_i_test\n",
    "\n",
    "id_Train = np.concatenate(id_Train)\n",
    "id_Test = np.concatenate(id_Test)\n",
    "\n",
    "X_train = X[id_Train]\n",
    "Y_train = y[id_Train]\n",
    "X_test = X[id_Test]\n",
    "Y_test = y[id_Test]"
   ]
  },
  {
   "cell_type": "code",
   "execution_count": 15,
   "metadata": {},
   "outputs": [
    {
     "data": {
      "text/plain": [
       "array([        12, 2517724481,  652481754, 2967512603, 1432783624,\n",
       "       1342367140,  157533148,          2,  399159304,          0,\n",
       "                2,          1,          0,          0,          0,\n",
       "                3,          0,          0, 2379633508, 1284343215])"
      ]
     },
     "execution_count": 15,
     "metadata": {},
     "output_type": "execute_result"
    }
   ],
   "source": [
    "X_train[0]"
   ]
  },
  {
   "cell_type": "code",
   "execution_count": 16,
   "metadata": {},
   "outputs": [
    {
     "data": {
      "text/plain": [
       "array([17189,  2830, 28376, ..., 24118,  2470, 23841])"
      ]
     },
     "execution_count": 16,
     "metadata": {},
     "output_type": "execute_result"
    }
   ],
   "source": [
    "id_Train"
   ]
  },
  {
   "cell_type": "markdown",
   "metadata": {},
   "source": [
    "# Re-sampling"
   ]
  },
  {
   "cell_type": "code",
   "execution_count": 17,
   "metadata": {},
   "outputs": [
    {
     "name": "stdout",
     "output_type": "stream",
     "text": [
      "before resampling\n",
      "[21959, 39]\n",
      "after resampling\n",
      "[474, 94]\n"
     ]
    }
   ],
   "source": [
    "id_toTrain = np.array([np.where(Y_train==i)[0] for i in range(nb_class)])\n",
    "\n",
    "size_max = [len(id_toTrain[i]) for i in range(nb_class)]\n",
    "print(\"before resampling\")\n",
    "print(size_max)\n",
    "\n",
    "blc = 150\n",
    "for i in range(len(size_max)):\n",
    "    if size_max[i] > blc:\n",
    "        size_max[i] = int(blc*(np.log10(size_max[i]/blc)+1))\n",
    "    else:\n",
    "        size_max[i] = int(blc/(np.log10(blc/size_max[i])+1))\n",
    "\n",
    "print(\"after resampling\")\n",
    "print(size_max)\n",
    "for i in range(nb_class):\n",
    "    if len(id_toTrain[i]) > size_max[i]:\n",
    "        id_toTrain[i], tmp = train_test_split(id_toTrain[i], test_size=1-size_max[i]/len(id_toTrain[i]))\n",
    "    else:\n",
    "        id_toTrain[i] = np.concatenate((id_toTrain[i], id_toTrain[i][np.random.randint(len(id_toTrain[i]), size=int(size_max[i]-len(id_toTrain[i])))]))\n",
    "id_toTrain = np.concatenate(id_toTrain)\n",
    "X_toTrain = X_train[id_toTrain]\n",
    "Y_toTrain = Y_train[id_toTrain]"
   ]
  },
  {
   "cell_type": "markdown",
   "metadata": {},
   "source": [
    "# Train the Random Forest model."
   ]
  },
  {
   "cell_type": "code",
   "execution_count": 34,
   "metadata": {},
   "outputs": [
    {
     "name": "stdout",
     "output_type": "stream",
     "text": [
      "Training\n",
      "0.9886807891626511\n",
      "              precision    recall  f1-score   support\n",
      "\n",
      "           0       1.00      0.99      0.99     21959\n",
      "           1       0.14      1.00      0.24        39\n",
      "\n",
      "    accuracy                           0.99     21998\n",
      "   macro avg       0.57      0.99      0.62     21998\n",
      "weighted avg       1.00      0.99      0.99     21998\n",
      "\n",
      "\n",
      "\n",
      "Testing\n",
      "0.9895015906680806\n",
      "              precision    recall  f1-score   support\n",
      "\n",
      "           0       1.00      0.99      0.99      9412\n",
      "           1       0.13      0.78      0.22        18\n",
      "\n",
      "    accuracy                           0.99      9430\n",
      "   macro avg       0.56      0.88      0.61      9430\n",
      "weighted avg       1.00      0.99      0.99      9430\n",
      "\n"
     ]
    },
    {
     "ename": "TypeError",
     "evalue": "unsupported format string passed to numpy.ndarray.__format__",
     "output_type": "error",
     "traceback": [
      "\u001b[0;31m---------------------------------------------------------------------------\u001b[0m",
      "\u001b[0;31mTypeError\u001b[0m                                 Traceback (most recent call last)",
      "\u001b[0;32m<ipython-input-34-859ca06800b0>\u001b[0m in \u001b[0;36m<module>\u001b[0;34m\u001b[0m\n\u001b[1;32m     40\u001b[0m \u001b[0mfeature_importances\u001b[0m \u001b[0;34m=\u001b[0m \u001b[0msorted\u001b[0m\u001b[0;34m(\u001b[0m\u001b[0mfeature_importances\u001b[0m\u001b[0;34m,\u001b[0m \u001b[0mkey\u001b[0m \u001b[0;34m=\u001b[0m \u001b[0;32mlambda\u001b[0m \u001b[0mx\u001b[0m\u001b[0;34m:\u001b[0m \u001b[0mx\u001b[0m\u001b[0;34m[\u001b[0m\u001b[0;36m1\u001b[0m\u001b[0;34m]\u001b[0m\u001b[0;34m,\u001b[0m \u001b[0mreverse\u001b[0m \u001b[0;34m=\u001b[0m \u001b[0;32mTrue\u001b[0m\u001b[0;34m)\u001b[0m\u001b[0;34m\u001b[0m\u001b[0;34m\u001b[0m\u001b[0m\n\u001b[1;32m     41\u001b[0m \u001b[0;31m# Print out the feature and importances\u001b[0m\u001b[0;34m\u001b[0m\u001b[0;34m\u001b[0m\u001b[0;34m\u001b[0m\u001b[0m\n\u001b[0;32m---> 42\u001b[0;31m \u001b[0;34m[\u001b[0m\u001b[0mprint\u001b[0m\u001b[0;34m(\u001b[0m\u001b[0;34m'Variable: {:20} Importance: {}'\u001b[0m\u001b[0;34m.\u001b[0m\u001b[0mformat\u001b[0m\u001b[0;34m(\u001b[0m\u001b[0;34m*\u001b[0m\u001b[0mpair\u001b[0m\u001b[0;34m)\u001b[0m\u001b[0;34m)\u001b[0m \u001b[0;32mfor\u001b[0m \u001b[0mpair\u001b[0m \u001b[0;32min\u001b[0m \u001b[0mfeature_importances\u001b[0m\u001b[0;34m]\u001b[0m\u001b[0;34m\u001b[0m\u001b[0;34m\u001b[0m\u001b[0m\n\u001b[0m",
      "\u001b[0;32m<ipython-input-34-859ca06800b0>\u001b[0m in \u001b[0;36m<listcomp>\u001b[0;34m(.0)\u001b[0m\n\u001b[1;32m     40\u001b[0m \u001b[0mfeature_importances\u001b[0m \u001b[0;34m=\u001b[0m \u001b[0msorted\u001b[0m\u001b[0;34m(\u001b[0m\u001b[0mfeature_importances\u001b[0m\u001b[0;34m,\u001b[0m \u001b[0mkey\u001b[0m \u001b[0;34m=\u001b[0m \u001b[0;32mlambda\u001b[0m \u001b[0mx\u001b[0m\u001b[0;34m:\u001b[0m \u001b[0mx\u001b[0m\u001b[0;34m[\u001b[0m\u001b[0;36m1\u001b[0m\u001b[0;34m]\u001b[0m\u001b[0;34m,\u001b[0m \u001b[0mreverse\u001b[0m \u001b[0;34m=\u001b[0m \u001b[0;32mTrue\u001b[0m\u001b[0;34m)\u001b[0m\u001b[0;34m\u001b[0m\u001b[0;34m\u001b[0m\u001b[0m\n\u001b[1;32m     41\u001b[0m \u001b[0;31m# Print out the feature and importances\u001b[0m\u001b[0;34m\u001b[0m\u001b[0;34m\u001b[0m\u001b[0;34m\u001b[0m\u001b[0m\n\u001b[0;32m---> 42\u001b[0;31m \u001b[0;34m[\u001b[0m\u001b[0mprint\u001b[0m\u001b[0;34m(\u001b[0m\u001b[0;34m'Variable: {:20} Importance: {}'\u001b[0m\u001b[0;34m.\u001b[0m\u001b[0mformat\u001b[0m\u001b[0;34m(\u001b[0m\u001b[0;34m*\u001b[0m\u001b[0mpair\u001b[0m\u001b[0;34m)\u001b[0m\u001b[0;34m)\u001b[0m \u001b[0;32mfor\u001b[0m \u001b[0mpair\u001b[0m \u001b[0;32min\u001b[0m \u001b[0mfeature_importances\u001b[0m\u001b[0;34m]\u001b[0m\u001b[0;34m\u001b[0m\u001b[0;34m\u001b[0m\u001b[0m\n\u001b[0m",
      "\u001b[0;31mTypeError\u001b[0m: unsupported format string passed to numpy.ndarray.__format__"
     ]
    }
   ],
   "source": [
    "import pickle\n",
    "from sklearn.model_selection import train_test_split\n",
    "from sklearn.ensemble import RandomForestClassifier\n",
    "from imblearn.over_sampling import SMOTE, ADASYN\n",
    "from imblearn.under_sampling import RandomUnderSampler\n",
    "from imblearn.pipeline import Pipeline\n",
    "from sklearn import metrics\n",
    "from sklearn.metrics import precision_recall_fscore_support as score\n",
    "from sklearn.metrics import accuracy_score as acs\n",
    "from sklearn.feature_selection import SelectFromModel\n",
    "from sklearn.impute import KNNImputer\n",
    "\n",
    "print('Training')\n",
    "# evaluate each model in turn\n",
    "results = []\n",
    "names = []\n",
    "rf = RandomForestClassifier(max_depth = 15, random_state=123,max_leaf_nodes=60)\n",
    "rf = rf.fit(X_toTrain, Y_toTrain)\n",
    "train_pred = rf.predict(X_train)\n",
    "print(metrics.accuracy_score(Y_train,train_pred))\n",
    "print(metrics.classification_report(Y_train,train_pred))\n",
    "\n",
    "\n",
    "print('\\n')\n",
    "\n",
    "print('Testing')\n",
    "\n",
    "\n",
    "y_pred = rf.predict(X_test)\n",
    "#Evaluate predictions\n",
    "print(metrics.accuracy_score(Y_test,y_pred))\n",
    "print(metrics.classification_report(Y_test,y_pred))\n",
    "\n",
    "# Get numerical feature importances\n",
    "feature_list = X\n",
    "importances = list(rf.feature_importances_)\n",
    "# List of tuples with variable and importance\n",
    "feature_importances = [(feature, round(importance, 2)) for feature, importance in zip(feature_list, importances)]\n",
    "# Sort the feature importances by most important first\n",
    "feature_importances = sorted(feature_importances, key = lambda x: x[1], reverse = True)\n",
    "# Print out the feature and importances \n",
    "[print('Variable: {:20} Importance: {}'.format(*pair)) for pair in feature_importances]"
   ]
  },
  {
   "cell_type": "code",
   "execution_count": 35,
   "metadata": {},
   "outputs": [
    {
     "data": {
      "text/plain": [
       "SelectFromModel(estimator=RandomForestClassifier(bootstrap=True, ccp_alpha=0.0,\n",
       "                                                 class_weight=None,\n",
       "                                                 criterion='gini', max_depth=15,\n",
       "                                                 max_features='auto',\n",
       "                                                 max_leaf_nodes=60,\n",
       "                                                 max_samples=None,\n",
       "                                                 min_impurity_decrease=0.0,\n",
       "                                                 min_impurity_split=None,\n",
       "                                                 min_samples_leaf=1,\n",
       "                                                 min_samples_split=2,\n",
       "                                                 min_weight_fraction_leaf=0.0,\n",
       "                                                 n_estimators=100, n_jobs=None,\n",
       "                                                 oob_score=False,\n",
       "                                                 random_state=666, verbose=0,\n",
       "                                                 warm_start=False),\n",
       "                max_features=None, norm_order=1, prefit=False, threshold=0.001)"
      ]
     },
     "execution_count": 35,
     "metadata": {},
     "output_type": "execute_result"
    }
   ],
   "source": [
    "# Create a selector object that will use the random forest classifier to identify\n",
    "# features that have an importance of more than 0.002\n",
    "selector = SelectFromModel(rf, threshold=0.001)\n",
    "\n",
    "# Train the selector\n",
    "selector.fit(X_toTrain, Y_toTrain)"
   ]
  },
  {
   "cell_type": "code",
   "execution_count": 36,
   "metadata": {},
   "outputs": [],
   "source": [
    "# Print the names of the most important features\n",
    "my_list = []\n",
    "\n",
    "for feature_list_index in selector.get_support(indices=True):\n",
    "    #print(X.columns[feature_list_index])\n",
    "    my_list.append(X[feature_list_index])"
   ]
  },
  {
   "cell_type": "code",
   "execution_count": 41,
   "metadata": {},
   "outputs": [
    {
     "name": "stdout",
     "output_type": "stream",
     "text": [
      "train\n",
      "1.0\n",
      "              precision    recall  f1-score   support\n",
      "\n",
      "           0       1.00      1.00      1.00       474\n",
      "           1       1.00      1.00      1.00        94\n",
      "\n",
      "    accuracy                           1.00       568\n",
      "   macro avg       1.00      1.00      1.00       568\n",
      "weighted avg       1.00      1.00      1.00       568\n",
      "\n",
      "test\n",
      "0.9944856839872747\n",
      "              precision    recall  f1-score   support\n",
      "\n",
      "           0       1.00      0.99      1.00      9412\n",
      "           1       0.23      0.78      0.35        18\n",
      "\n",
      "    accuracy                           0.99      9430\n",
      "   macro avg       0.61      0.89      0.67      9430\n",
      "weighted avg       1.00      0.99      1.00      9430\n",
      "\n"
     ]
    }
   ],
   "source": [
    "X_important_train = selector.transform(X_toTrain)\n",
    "X_important_test = selector.transform(X_test)\n",
    "\n",
    "# New Random Forest model.\n",
    "clf_important = RandomForestClassifier(max_depth = 12, random_state=123, n_estimators = 500 ,max_leaf_nodes = 15)\n",
    "\n",
    "# Train the new classifier.\n",
    "clf_important.fit(X_important_train, Y_toTrain)\n",
    "y_important_pred = clf_important.predict(X_important_train)\n",
    "print('train')\n",
    "print(metrics.accuracy_score(Y_toTrain,y_important_pred))\n",
    "\n",
    "print(metrics.classification_report(Y_toTrain,y_important_pred))\n",
    "print('test')\n",
    "y_important_test_pred = clf_important.predict(X_important_test)\n",
    "print(metrics.accuracy_score(Y_test,y_important_test_pred))\n",
    "print(metrics.classification_report(Y_test,y_important_test_pred))"
   ]
  },
  {
   "cell_type": "markdown",
   "metadata": {},
   "source": [
    "# Machine learning the data and output the result to a csv file."
   ]
  },
  {
   "cell_type": "code",
   "execution_count": 28,
   "metadata": {},
   "outputs": [],
   "source": [
    "# Save the model.\n",
    "Rfmodel = '/Users/ganby/文件/ESCP/ML and Python/Assignment 2 and 3/model_trained.sav'\n",
    "pickle.dump(clf_important, open(Rfmodel, 'wb'))"
   ]
  },
  {
   "cell_type": "code",
   "execution_count": 29,
   "metadata": {},
   "outputs": [],
   "source": [
    "# load the model.\n",
    "loaded_model = pickle.load(open(Rfmodel, 'rb'))"
   ]
  },
  {
   "cell_type": "code",
   "execution_count": 30,
   "metadata": {},
   "outputs": [],
   "source": [
    "dft = pd.read_csv(\"/Users/ganby/文件/ESCP/ML and Python/Assignment 2 and 3/test1.csv\")"
   ]
  },
  {
   "cell_type": "code",
   "execution_count": 31,
   "metadata": {},
   "outputs": [
    {
     "data": {
      "text/plain": [
       "array([-1, -1, -1, ..., -1, -1, -1])"
      ]
     },
     "execution_count": 31,
     "metadata": {},
     "output_type": "execute_result"
    }
   ],
   "source": [
    "labelt = dft['label'].values\n",
    "labelt"
   ]
  },
  {
   "cell_type": "code",
   "execution_count": 32,
   "metadata": {},
   "outputs": [
    {
     "data": {
      "text/plain": [
       "array([[         0,  403381353,  652481754, ...,          0,          0,\n",
       "        4220791646],\n",
       "       [         0, 1235983246,  652481754, ...,          0,          0,\n",
       "        1284343215],\n",
       "       [         0, 1235983246,  652481754, ...,          0,          0,\n",
       "        1213938795],\n",
       "       ...,\n",
       "       [        23,  403381353,  652481754, ...,          0,          0,\n",
       "        4220791646],\n",
       "       [        23, 2541203883, 2308170622, ...,          0,          0,\n",
       "        4220791646],\n",
       "       [        23,  403381353,  652481754, ...,          0,          0,\n",
       "        4220791646]])"
      ]
     },
     "execution_count": 32,
     "metadata": {},
     "output_type": "execute_result"
    }
   ],
   "source": [
    "datat = dft.drop(columns=['label','id','visitTime','purchaseTime','C1','C3','C10','C11']).values\n",
    "datat"
   ]
  },
  {
   "cell_type": "code",
   "execution_count": 33,
   "metadata": {},
   "outputs": [],
   "source": [
    "dft['prob0'] = loaded_model.predict_proba(datat)[0:,0]\n",
    "dft = dft[['id','prob0']]\n",
    "dft.to_csv('/Users/ganby/文件/ESCP/ML and Python/Assignment 2 and 3/Output_result.csv')"
   ]
  },
  {
   "cell_type": "code",
   "execution_count": null,
   "metadata": {},
   "outputs": [],
   "source": []
  }
 ],
 "metadata": {
  "kernelspec": {
   "display_name": "Python 3",
   "language": "python",
   "name": "python3"
  },
  "language_info": {
   "codemirror_mode": {
    "name": "ipython",
    "version": 3
   },
   "file_extension": ".py",
   "mimetype": "text/x-python",
   "name": "python",
   "nbconvert_exporter": "python",
   "pygments_lexer": "ipython3",
   "version": "3.7.4"
  }
 },
 "nbformat": 4,
 "nbformat_minor": 4
}
